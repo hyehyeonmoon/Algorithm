{
 "cells": [
  {
   "cell_type": "code",
   "execution_count": 1,
   "metadata": {},
   "outputs": [
    {
     "name": "stdout",
     "output_type": "stream",
     "text": [
      "100\n",
      "A\n"
     ]
    }
   ],
   "source": [
    "a=int(input())\n",
    "if a>=0 and a<=100: \n",
    "    if a>=90 and a<=100:\n",
    "        print(\"A\")\n",
    "    elif a>=80 and a<=89:\n",
    "        print(\"B\")\n",
    "    elif a>=70 and a<=79:\n",
    "        print(\"C\")\n",
    "    elif a>=60 and a<=69:\n",
    "        print(\"D\")\n",
    "    else:\n",
    "        print(\"F\")"
   ]
  }
 ],
 "metadata": {
  "kernelspec": {
   "display_name": "Python 3",
   "language": "python",
   "name": "python3"
  },
  "language_info": {
   "codemirror_mode": {
    "name": "ipython",
    "version": 3
   },
   "file_extension": ".py",
   "mimetype": "text/x-python",
   "name": "python",
   "nbconvert_exporter": "python",
   "pygments_lexer": "ipython3",
   "version": "3.7.7"
  }
 },
 "nbformat": 4,
 "nbformat_minor": 4
}
