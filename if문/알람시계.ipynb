{
 "cells": [
  {
   "cell_type": "code",
   "execution_count": 10,
   "metadata": {},
   "outputs": [
    {
     "name": "stdout",
     "output_type": "stream",
     "text": [
      "23 59\n",
      "23 14\n"
     ]
    }
   ],
   "source": [
    "a, b=map(int, input().split())\n",
    "\n",
    "if a>=0 and a<=23 and b>=0 and b<=59:\n",
    "    if b<45 and a>0:\n",
    "        print(a-1, b+15)\n",
    "    if b>=45 and a>0:\n",
    "        print(a, b-45)\n",
    "    if b<45 and a==0:\n",
    "        print(23, b+15)\n",
    "    if b>=45 and a==0:\n",
    "        print(a, b-45)\n"
   ]
  },
  {
   "cell_type": "code",
   "execution_count": null,
   "metadata": {},
   "outputs": [],
   "source": [
    "#다른 풀이\n",
    "h,m=map(int,input().split())\n",
    "a=h*60+m\n",
    "b=a-45\n",
    "if b >= 0 : print(b//60,b%60)\n",
    "else : print(23,60+b)"
   ]
  }
 ],
 "metadata": {
  "kernelspec": {
   "display_name": "Python 3",
   "language": "python",
   "name": "python3"
  },
  "language_info": {
   "codemirror_mode": {
    "name": "ipython",
    "version": 3
   },
   "file_extension": ".py",
   "mimetype": "text/x-python",
   "name": "python",
   "nbconvert_exporter": "python",
   "pygments_lexer": "ipython3",
   "version": "3.7.7"
  }
 },
 "nbformat": 4,
 "nbformat_minor": 4
}
